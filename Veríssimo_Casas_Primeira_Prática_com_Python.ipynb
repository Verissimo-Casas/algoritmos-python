{
  "nbformat": 4,
  "nbformat_minor": 0,
  "metadata": {
    "colab": {
      "provenance": []
    },
    "kernelspec": {
      "name": "python3",
      "display_name": "Python 3"
    },
    "language_info": {
      "name": "python"
    }
  },
  "cells": [
    {
      "cell_type": "markdown",
      "source": [
        "Aula de Introdução à Programação"
      ],
      "metadata": {
        "id": "ZYXmamOB-2ta"
      }
    },
    {
      "cell_type": "code",
      "source": [
        "print(\"Bem vindos!!!\")"
      ],
      "metadata": {
        "colab": {
          "base_uri": "https://localhost:8080/"
        },
        "id": "8LwPXjAH_BJm",
        "outputId": "6289bb24-c419-4a32-9d4a-540ee9ff0475"
      },
      "execution_count": null,
      "outputs": [
        {
          "output_type": "stream",
          "name": "stdout",
          "text": [
            "Bem vindos!!!\n"
          ]
        }
      ]
    }
  ]
}