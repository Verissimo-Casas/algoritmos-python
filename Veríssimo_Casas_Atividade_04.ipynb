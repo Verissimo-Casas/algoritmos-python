{
  "nbformat": 4,
  "nbformat_minor": 0,
  "metadata": {
    "colab": {
      "provenance": []
    },
    "kernelspec": {
      "name": "python3",
      "display_name": "Python 3"
    },
    "language_info": {
      "name": "python"
    }
  },
  "cells": [
    {
      "cell_type": "markdown",
      "source": [
        "1. Escreva um programa que pergunte a velocidade do carro de um usuário. Caso ultrapasse 80 km/h, exiba uma mensagem dizendo que o usuário foi multado. Nesse caso, exiba o valor da multa, cobrando R$ 5 por km acima de 80 km/h."
      ],
      "metadata": {
        "id": "jhrKY89V2OZD"
      }
    },
    {
      "cell_type": "code",
      "execution_count": null,
      "metadata": {
        "id": "GRZX90er2KKx"
      },
      "outputs": [],
      "source": [
        "velocidade = float(input(\"Digite a velocidade do carro: \"))\n",
        "if velocidade > 80:\n",
        "    multa = (velocidade - 80) * 5\n",
        "    print(\"Você foi multado em R$\", multa)\n",
        "    print(\"Você foi multado em R$\", (velocidade - 80) * 5)\n",
        "else:\n",
        "    print(\"Você não foi multado\")"
      ]
    },
    {
      "cell_type": "markdown",
      "source": [
        "2. Escreva um programa que pergunte o salário do funcionário e calcule o valor do aumento. Para salários superiores a R$ 1.250,00, calcule um aumento de 10%. Para os inferiores ou iguais, de 15%."
      ],
      "metadata": {
        "id": "tSHbvYnN2SIu"
      }
    },
    {
      "cell_type": "code",
      "source": [
        "SALARIO = float(input(\"Digite o salário do funcionário: \"))\n",
        "if SALARIO > 1250:\n",
        "    print(\"O salário do funcionário com o aumento de 10% é de R$\", SALARIO * 1.1)\n",
        "else:\n",
        "    print(\"O salário do funcionário com o aumento de 15% é de R$\", SALARIO * 1.15)"
      ],
      "metadata": {
        "id": "CgWmGTDP2uXl"
      },
      "execution_count": null,
      "outputs": []
    },
    {
      "cell_type": "markdown",
      "source": [
        "3. Escreva um programa que pergunte a distância que um passageiro deseja percorrer em km. Calcule o preço da passagem, cobrando R\\$ 2,50 por km para viagens de até de 200 km, e R\\$ 4,20 para viagens mais longas."
      ],
      "metadata": {
        "id": "awzZJYkq2u2k"
      }
    },
    {
      "cell_type": "code",
      "source": [
        "DISTANCIA = float(input(\"Digite a distância que o passageiro deseja percorrer em km: \"))\n",
        "if DISTANCIA <= 200:\n",
        "    print(\"O preço da passagem é de R$\", DISTANCIA * 2.5)\n",
        "else:\n",
        "    print(\"O preço da passagem é de R$\", DISTANCIA * 4.2)\n",
        "\n"
      ],
      "metadata": {
        "id": "OGpIhd4x2-HI"
      },
      "execution_count": null,
      "outputs": []
    },
    {
      "cell_type": "markdown",
      "source": [
        "4. Escreva um programa para aprovar o empréstimo bancário para compra de uma casa. O programa deve perguntar o valor da casa a comprar, o salário e a quantidade de anos a pagar. O valor da prestação mensal não pode ser superior a 30% do salário. Calcule o valor da prestação como sendo o valor da casa a comprar dividido pelo número de meses a pagar."
      ],
      "metadata": {
        "id": "9wMET-wR2-g8"
      }
    },
    {
      "cell_type": "code",
      "source": [
        "valor_casa = float(input(\"Digite o valor da casa a comprar: \"))\n",
        "salario = float(input(\"Digite o salário: \"))\n",
        "anos = int(input(\"Digite a quantidade de anos a pagar: \"))\n",
        "\n",
        "meses = anos * 12\n",
        "prestacao = valor_casa / meses\n",
        "if prestacao > 0.3 * salario:\n",
        "    print(\"Empréstimo negado\")\n",
        "else:\n",
        "    print(\"Empréstimo aprovado\")"
      ],
      "metadata": {
        "id": "UCmK5kBu324u"
      },
      "execution_count": null,
      "outputs": []
    },
    {
      "cell_type": "markdown",
      "source": [
        "5. Faça um programa para escrever a contagem regressiva do lançamento de um foguete. O programa deve imprimir 10, 9, 8, …, 1, 0 e Fogo! na tela."
      ],
      "metadata": {
        "id": "qQFG2JQ533x5"
      }
    },
    {
      "cell_type": "code",
      "source": [
        "for i in range(10, -1, -1):\n",
        "    print(i)\n",
        "print(\"Fogo!\")"
      ],
      "metadata": {
        "id": "CKRRf-jY37W1"
      },
      "execution_count": null,
      "outputs": []
    }
  ]
}