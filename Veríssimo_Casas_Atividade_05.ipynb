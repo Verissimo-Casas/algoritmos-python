{
  "nbformat": 4,
  "nbformat_minor": 0,
  "metadata": {
    "colab": {
      "provenance": []
    },
    "kernelspec": {
      "name": "python3",
      "display_name": "Python 3"
    },
    "language_info": {
      "name": "python"
    }
  },
  "cells": [
    {
      "cell_type": "markdown",
      "source": [
        "1. Escreva um programa que pergunte o depósito inicial e a taxa de juros de uma poupança. Exiba os valores mês a mês para os 24 primeiros meses. Escreva o total ganho com juros no período."
      ],
      "metadata": {
        "id": "jhrKY89V2OZD"
      }
    },
    {
      "cell_type": "code",
      "execution_count": null,
      "metadata": {
        "id": "GRZX90er2KKx",
        "colab": {
          "base_uri": "https://localhost:8080/"
        },
        "outputId": "e2d4fbdd-25d3-4499-be79-536fbee31209"
      },
      "outputs": [
        {
          "output_type": "stream",
          "name": "stdout",
          "text": [
            "Insira deposito: 10\n",
            "Insira deposito: 2\n",
            "Ano 1: Montante Total = R$10.20, Ganho com Juros = R$0.20\n",
            "Ano 2: Montante Total = R$10.40, Ganho com Juros = R$0.40\n",
            "Ano 3: Montante Total = R$10.61, Ganho com Juros = R$0.61\n",
            "Ano 4: Montante Total = R$10.82, Ganho com Juros = R$0.82\n",
            "Ano 5: Montante Total = R$11.04, Ganho com Juros = R$1.04\n",
            "Ano 6: Montante Total = R$11.26, Ganho com Juros = R$1.26\n",
            "Ano 7: Montante Total = R$11.49, Ganho com Juros = R$1.49\n",
            "Ano 8: Montante Total = R$11.72, Ganho com Juros = R$1.72\n",
            "Ano 9: Montante Total = R$11.95, Ganho com Juros = R$1.95\n",
            "Ano 10: Montante Total = R$12.19, Ganho com Juros = R$2.19\n",
            "Ano 11: Montante Total = R$12.43, Ganho com Juros = R$2.43\n",
            "Ano 12: Montante Total = R$12.68, Ganho com Juros = R$2.68\n",
            "Ano 13: Montante Total = R$12.94, Ganho com Juros = R$2.94\n",
            "Ano 14: Montante Total = R$13.19, Ganho com Juros = R$3.19\n",
            "Ano 15: Montante Total = R$13.46, Ganho com Juros = R$3.46\n",
            "Ano 16: Montante Total = R$13.73, Ganho com Juros = R$3.73\n",
            "Ano 17: Montante Total = R$14.00, Ganho com Juros = R$4.00\n",
            "Ano 18: Montante Total = R$14.28, Ganho com Juros = R$4.28\n",
            "Ano 19: Montante Total = R$14.57, Ganho com Juros = R$4.57\n",
            "Ano 20: Montante Total = R$14.86, Ganho com Juros = R$4.86\n",
            "Ano 21: Montante Total = R$15.16, Ganho com Juros = R$5.16\n",
            "Ano 22: Montante Total = R$15.46, Ganho com Juros = R$5.46\n",
            "Ano 23: Montante Total = R$15.77, Ganho com Juros = R$5.77\n",
            "\n",
            "Capital Inicial: R$10.00\n",
            "Total de Juros: R$5.77\n",
            "Montante Total após 24 anos: R$15.77\n"
          ]
        }
      ],
      "source": [
        "principal = float(input(\"Insira deposito: \"))\n",
        "taxa_juros = float(input(\"Insira deposito: \"))\n",
        "\n",
        "# Inicialização das variáveis\n",
        "montante_total = principal\n",
        "total_juros = 0\n",
        "\n",
        "# Cálculo dos juros compostos\n",
        "for i in range(1, 24):\n",
        "    juros = montante_total * (taxa_juros / 100)\n",
        "    montante_total += juros\n",
        "    total_juros += juros\n",
        "    print(f\"Ano {i}: Montante Total = R${montante_total:.2f}, Ganho com Juros = R${total_juros:.2f}\")\n",
        "\n",
        "# Resultados finais\n",
        "print(f\"\\nCapital Inicial: R${principal:.2f}\")\n",
        "print(f\"Total de Juros: R${total_juros:.2f}\")\n",
        "print(f\"Montante Total após {periodos} anos: R${montante_total:.2f}\")\n"
      ]
    },
    {
      "cell_type": "markdown",
      "source": [
        "2. Escreva um programa para controlar uma pequena máquina registradora. Você deve solicitar ao usuário que digite o código do produto e a quantidade comprada. Utilize a tabela de códigos a seguir para obter o preço de cada produto:\n",
        "\n",
        "\n",
        "*   Cód - Preço\n",
        "*   1 - 0,50\n",
        "*   2 - 1,00\n",
        "*   3 - 4,00\n",
        "*   5 - 7,00\n",
        "*   9 - 8,00\n",
        "\n",
        "Seu programa deve exibir o total das compras depois que o usuário digitar 0. Qualquer outro código deve gerar a mensagem de erro “Código inválido”.\n",
        "\n"
      ],
      "metadata": {
        "id": "tSHbvYnN2SIu"
      }
    },
    {
      "cell_type": "code",
      "source": [
        "codigo_produto = int(input(\"Digite o código do produto: \"))\n",
        "quantidade_comprada = int(input(\"Digite a quantidade comprada: \" ))\n",
        "\n",
        "while codigo_produto != 0:\n",
        "  print(f\"Cód - Preço 1 - 0,50 \\n 2 - 1,00 \\n 3 - 4,00 \\n 5 - 7,00 \\n 9 - 8,00\")\n",
        "\n"
      ],
      "metadata": {
        "id": "CgWmGTDP2uXl"
      },
      "execution_count": null,
      "outputs": []
    },
    {
      "cell_type": "markdown",
      "source": [
        "3. Faça um programa que leia e valide as seguintes informações:\n",
        "* Nome: maior que 3 caracteres;\n",
        "* Idade: entre 0 e 150;\n",
        "* Salário: maior que zero;\n",
        "* Sexo: 'f' ou 'm';\n",
        "* Estado Civil: 's', 'c', 'v', 'd';"
      ],
      "metadata": {
        "id": "awzZJYkq2u2k"
      }
    },
    {
      "cell_type": "code",
      "source": [
        "name = ''\n",
        "idade = -1\n",
        "salario = -1\n",
        "sexo = ''\n",
        "estado_civil = ''\n",
        "\n",
        "while len(name) <= 3:\n",
        "  print(\"Digite seu nome mior que 3 letras\")\n",
        "  name = input(\"Digite seu nome: \")\n",
        "\n",
        "while idade < 0 or idade > 150:\n",
        "  print(\"Digite sua idade entre 0 e 150\")\n",
        "  idade = int(input(\"Digite sua idade: \"))\n",
        "\n",
        "\n",
        "while salario <= 0:\n",
        "  print(\"Digite seu salário maior que 0\")\n",
        "  salario = float(input(\"Digite seu salário: \"))\n",
        "\n",
        "while sexo != 'f' and sexo != 'm':\n",
        "  print(\"Digite seu sexo 'f' ou 'm'\")\n",
        "  sexo = input(\"Digite seu sexo: \")\n",
        "\n",
        "while estado_civil != 's' and estado_civil != 'c' and estado_civil != 'v' and estado_civil != 'd':\n",
        "  print(\"Digite seu estado civil 's', 'c', 'v', 'd'\")\n",
        "  estado_civil = input(\"Digite seu estado civil: \")\n",
        "\n",
        "\n",
        "print(f\"Nome: {name}\")\n",
        "print(f\"Idade: {idade}\")\n",
        "print(f\"Salário: {salario}\")\n",
        "print(f\"Sexo: {sexo}\")\n",
        "print(f\"Estado Civil: {estado_civil}\")\n",
        "\n"
      ],
      "metadata": {
        "colab": {
          "base_uri": "https://localhost:8080/"
        },
        "id": "lkbsLZBvQkaI",
        "outputId": "92440981-be4a-4181-c1ff-1b6cc9033430"
      },
      "execution_count": null,
      "outputs": [
        {
          "output_type": "stream",
          "name": "stdout",
          "text": [
            "Digite seu nome: V\n",
            "Digite seu nome: Verissimo\n",
            "Digite sua idade: 20\n",
            "Digite seu salário: 20\n",
            "Digite seu sexo: m\n",
            "Digite seu estado civil: c\n",
            "Nome: Verissimo\n",
            "Idade: 20\n",
            "Salário: 20.0\n",
            "Sexo: m\n",
            "Estado Civil: c\n"
          ]
        }
      ]
    },
    {
      "cell_type": "markdown",
      "source": [
        "4. Supondo que a população de um país A seja da ordem de 80000 habitantes com uma taxa anual de crescimento de 3% e que a população de B seja 200000 habitantes com uma taxa de crescimento de 1.5%. Faça um programa que calcule e escreva o número de anos necessários para que a população do país A ultrapasse ou iguale a população do país B, mantidas as taxas de crescimento."
      ],
      "metadata": {
        "id": "9wMET-wR2-g8"
      }
    },
    {
      "cell_type": "code",
      "source": [
        "populacao_a = 80000\n",
        "populacao_b = 200000\n",
        "taxa_a = 0.03\n",
        "taxa_b = 0.015\n",
        "ano_sugerido = 0\n",
        "\n",
        "while populacao_a <= populacao_b:\n",
        "  populacao_a = populacao_a + (populacao_a * taxa_a)\n",
        "  populacao_b = populacao_b + (populacao_b * taxa_b)\n",
        "  ano_sugerido = ano_sugerido + 1\n",
        "\n",
        "  print(f\"Ano sugerido: {ano_sugerido}\")\n",
        "  print(f\"População A: {populacao_a:.2f}\")\n",
        "  print(f\"População B: {populacao_b:.2f}\")\n",
        "  print(\"_\"*50)"
      ],
      "metadata": {
        "id": "UCmK5kBu324u"
      },
      "execution_count": null,
      "outputs": []
    },
    {
      "cell_type": "markdown",
      "source": [
        "5. Desenvolva um gerador de tabuada, capaz de gerar a tabuada de qualquer número inteiro entre 1 a 10. O usuário deve informar de qual numero ele deseja ver a tabuada. A saída deve ser conforme o exemplo abaixo:\n",
        "Tabuada de 5:\n",
        "5 X 1 = 5\n",
        "5 X 2 = 10\n",
        "...\n",
        "5 X 10 = 50"
      ],
      "metadata": {
        "id": "qQFG2JQ533x5"
      }
    },
    {
      "cell_type": "code",
      "source": [
        "tabuda = int(input(\"Digite o número da tabuada: \"))\n",
        "\n",
        "if tabuda < 1 or tabuda > 10:\n",
        "  print(\"Número inválido\")\n",
        "else:\n",
        "  for i in range(1, 11):\n",
        "    print(f\"{i} X {tabuda} = {i*tabuda}\")"
      ],
      "metadata": {
        "id": "CKRRf-jY37W1",
        "colab": {
          "base_uri": "https://localhost:8080/"
        },
        "outputId": "2019f7d7-8ffa-4e1f-c157-b43abbd483ad"
      },
      "execution_count": null,
      "outputs": [
        {
          "output_type": "stream",
          "name": "stdout",
          "text": [
            "Digite o número da tabuada: 3\n",
            "1 X 3 = 3\n",
            "2 X 3 = 6\n",
            "3 X 3 = 9\n",
            "4 X 3 = 12\n",
            "5 X 3 = 15\n",
            "6 X 3 = 18\n",
            "7 X 3 = 21\n",
            "8 X 3 = 24\n",
            "9 X 3 = 27\n",
            "10 X 3 = 30\n"
          ]
        }
      ]
    },
    {
      "cell_type": "markdown",
      "source": [
        "6. Faça um programa que leia um nome de usuário e a sua senha e não aceite a senha igual ao nome do usuário, mostrando uma mensagem de erro e voltando a pedir as informações."
      ],
      "metadata": {
        "id": "EoQa84Q0EUcj"
      }
    },
    {
      "cell_type": "code",
      "source": [
        "nome_usuario = input(f\"Digite seu nome: \")\n",
        "senha_usuario = input(f\"Dgite sua Senha: \")\n",
        "\n",
        "while nome_usuario == senha_usuario:\n",
        "  print(\"Você não pode digitar senha igual nome\")\n",
        "  nome_usuario = input(f\"Digite seu nome: \")\n",
        "  senha_usuario = input(f\"Dgite sua Senha: \")\n",
        "\n",
        "\n"
      ],
      "metadata": {
        "id": "SiBDaSL2TsnS",
        "colab": {
          "base_uri": "https://localhost:8080/"
        },
        "outputId": "de91fae2-8d76-4d38-cb45-948917f4b21a"
      },
      "execution_count": null,
      "outputs": [
        {
          "name": "stdout",
          "output_type": "stream",
          "text": [
            "Digite seu nome: Ver\n",
            "Dgite sua Senha: Ver\n",
            "Você não pode digitar senha igual nome\n",
            "Digite seu nome: Ver\n",
            "Dgite sua Senha: ver\n"
          ]
        }
      ]
    },
    {
      "cell_type": "markdown",
      "source": [
        "7. Em uma eleição presidencial existem quatro candidatos. Os votos são informados por meio de código. Os códigos utilizados são:\n",
        "\n",
        "\n",
        "* 1 , 2, 3, 4  - Votos para os respectivos candidatos  (você deve montar a tabela ex: 1 - Jose/ 2- João/etc)\n",
        "* 5 - Voto Nulo\n",
        "* 6 - Voto em Branco\n",
        "\n",
        "Faça um programa que calcule e mostre:\n",
        "1. O total de votos para cada candidato;\n",
        "2. O total de votos nulos;\n",
        "3. O total de votos em branco;\n",
        "4. A percentagem de votos nulos sobre o total de votos;\n",
        "5. A percentagem de votos em branco sobre o total de votos. Para finalizar o conjunto de votos tem-se o valor zero.\n",
        "\n"
      ],
      "metadata": {
        "id": "aNCfosp9Ts7F"
      }
    },
    {
      "cell_type": "code",
      "source": [
        "# Dicionário para armazenar os votos\n",
        "votos = {\n",
        "    1: 0,  # Candidato 1 - José\n",
        "    2: 0,  # Candidato 2 - João\n",
        "    3: 0,  # Candidato 3 - Maria\n",
        "    4: 0,  # Candidato 4 - Ana\n",
        "    5: 0,  # Voto Nulo\n",
        "    6: 0   # Voto em Branco\n",
        "}\n",
        "\n",
        "# Recebe os votos até que o valor 0 seja informado\n",
        "while True:\n",
        "    voto = int(input(\"Informe o voto (1-6) ou 0 para encerrar: \"))\n",
        "    if voto == 0:\n",
        "        break\n",
        "    if 1 <= voto <= 6:\n",
        "        votos[voto] += 1\n",
        "    else:\n",
        "        print(\"Voto inválido. Tente novamente.\")\n",
        "\n",
        "# Calcula o total de votos\n",
        "total_votos = sum(votos.values())\n",
        "\n",
        "# Verifica se houve votos\n",
        "if total_votos == 0:\n",
        "    print(\"Nenhum voto foi registrado.\")\n",
        "else:\n",
        "    # Calcula as percentagens\n",
        "    perc_nulos = (votos[5] / total_votos) * 100\n",
        "    perc_brancos = (votos[6] / total_votos) * 100\n",
        "\n",
        "    # Exibe os resultados\n",
        "    print(\"\\nResultado da eleição:\")\n",
        "    print(f\"Total de votos para o candidato 1 (José): {votos[1]}\")\n",
        "    print(f\"Total de votos para o candidato 2 (João): {votos[2]}\")\n",
        "    print(f\"Total de votos para o candidato 3 (Maria): {votos[3]}\")\n",
        "    print(f\"Total de votos para o candidato 4 (Ana): {votos[4]}\")\n",
        "    print(f\"Total de votos nulos: {votos[5]}\")\n",
        "    print(f\"Total de votos em branco: {votos[6]}\")\n",
        "    print(f\"Percentagem de votos nulos: {perc_nulos:.2f}%\")\n",
        "    print(f\"Percentagem de votos em branco: {perc_brancos:.2f}%\")\n"
      ],
      "metadata": {
        "id": "3g_nq_FfUo7s",
        "colab": {
          "base_uri": "https://localhost:8080/"
        },
        "outputId": "7ecc84e5-e2ff-4ecc-e985-c4ef9e52078d"
      },
      "execution_count": null,
      "outputs": [
        {
          "output_type": "stream",
          "name": "stdout",
          "text": [
            "\n",
            "*\n",
            "**\n",
            "***\n",
            "****\n"
          ]
        }
      ]
    },
    {
      "cell_type": "markdown",
      "source": [
        "8. Escreva um programa que lê o tamanho do lado de um quadrado e imprime um\n",
        "\n",
        "*   `Item de lista`\n",
        "*   Item de lista\n",
        "\n",
        "quadrado daquele tamanho com asteriscos e espaços em branco. Seu programa deve funcionar para quadrados com lados de todos os tamanhos entre 1 e 20.\n",
        "![Captura de tela 2024-07-10 165307.png](data:image/png;base64,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)"
      ],
      "metadata": {
        "id": "xNaWDm4oa6Bx"
      }
    },
    {
      "cell_type": "code",
      "source": [],
      "metadata": {
        "id": "YrXjcU98TCUi"
      },
      "execution_count": null,
      "outputs": []
    }
  ]
}