{
  "nbformat": 4,
  "nbformat_minor": 0,
  "metadata": {
    "colab": {
      "provenance": []
    },
    "kernelspec": {
      "name": "python3",
      "display_name": "Python 3"
    },
    "language_info": {
      "name": "python"
    }
  },
  "cells": [
    {
      "cell_type": "markdown",
      "source": [
        "1. Escreva um programa para ler o número total de eleitores de um município, o\n",
        "numero de votos brancos, nulos e válidos. Apresente a percentagem que cada\n",
        "um representa em relação ao total de eleitores."
      ],
      "metadata": {
        "id": "kZDIzQJAIm3g"
      }
    },
    {
      "cell_type": "code",
      "execution_count": null,
      "metadata": {
        "id": "xADCnDwrIllP",
        "colab": {
          "base_uri": "https://localhost:8080/"
        },
        "outputId": "9251f9c8-d2bb-48ce-d0f0-1413b00114cd"
      },
      "outputs": [
        {
          "output_type": "stream",
          "name": "stdout",
          "text": [
            "Insira a quantidade de votos brancos, nulos e válidos\n",
            "digite quantidade de Votos Brancos: 20\n",
            "digite quantidade de Votos nulos: 40\n",
            "digite quantidade de Votos Válidos: 40\n",
            "\n",
            "Votos Branco = 20.00%, Votos nulos= 40.00%, Votos validos = 40.00% \n",
            "Votos totais 100\n"
          ]
        }
      ],
      "source": [
        "print(\"Insira a quantidade de votos brancos, nulos e válidos\")\n",
        "\n",
        "votos_brancos = int(input(\"digite quantidade de Votos Brancos: \"))\n",
        "votos_nulos = int(input(\"digite quantidade de Votos nulos: \"))\n",
        "votos_validos = int(input(\"digite quantidade de Votos Válidos: \"))\n",
        "\n",
        "votos_total = votos_brancos + votos_nulos + votos_validos\n",
        "\n",
        "votos_brancos_porcentagem =  (votos_brancos / votos_total) * 100\n",
        "votos_nulos_porcentagem = (votos_nulos / votos_total) * 100\n",
        "votos_validos_porcentagem = (votos_validos / votos_total) * 100\n",
        "\n",
        "print(f\"\\nVotos Branco = {votos_brancos_porcentagem:.2f}%, Votos nulos= {votos_nulos_porcentagem:.2f}%, Votos validos = {votos_validos_porcentagem:.2f}% \\nVotos totais {votos_total}\")"
      ]
    },
    {
      "cell_type": "markdown",
      "source": [
        "2. Escreva um programa que a partir da idade de uma pessoa expressa em anos,\n",
        "meses e dias, apresente a idade apenas em dias (considerar o ano com 365 e cada\n",
        "mês com 30 dias)."
      ],
      "metadata": {
        "id": "5p1HferyIqaB"
      }
    },
    {
      "cell_type": "code",
      "source": [
        "print(\"Insira idade dia, mes, ano\")\n",
        "\n",
        "ano_atual = 2024\n",
        "\n",
        "nascimento_dia = int(input(\"digite idade dia: \"))\n",
        "nascimento_mes = int(input(\"digite idade mes: \"))\n",
        "nascimento_ano = int(input(\"digite idade ano: \"))\n",
        "\n",
        "anos_em_dias = (ano_atual - nascimento_ano) * 365\n",
        "ano_total_dias = (nascimento_mes * 30)\n",
        "\n",
        "print(f\"\\nIdade em dias {meses_total_dias}\")"
      ],
      "metadata": {
        "id": "rsOBjyAvIxP5",
        "colab": {
          "base_uri": "https://localhost:8080/"
        },
        "outputId": "7aeda121-5cdf-4712-b5c7-eea5f458016b"
      },
      "execution_count": null,
      "outputs": [
        {
          "output_type": "stream",
          "name": "stdout",
          "text": [
            "Insira idade dia, mes, ano\n",
            "digite idade dia: 11\n",
            "digite idade mes: 11\n",
            "digite idade ano: 1998\n",
            "\n",
            "Idade em dias 330\n"
          ]
        }
      ]
    },
    {
      "cell_type": "markdown",
      "source": [
        "3. Escreva um programa para mostrar a diferença entre duas datas informadas pelo usuário em dias. Não utilize funções. (considerar o ano com 365 e cada mês com 30 dias)"
      ],
      "metadata": {
        "id": "rN48wNz0IxsF"
      }
    },
    {
      "cell_type": "code",
      "source": [
        "dia1 = int(input(\"Informe o dia da primeira data: \"))\n",
        "mes1 = int(input(\"Informe o mês da primeira data: \"))\n",
        "ano1 = int(input(\"Informe o ano da primeira data: \"))\n",
        "\n",
        "dia2 = int(input(\"Informe o dia da segunda data: \"))\n",
        "mes2 = int(input(\"Informe o mês da segunda data: \"))\n",
        "ano2 = int(input(\"Informe o ano da segunda data: \"))\n",
        "\n",
        "total_dias1 = dia1 + mes1 * 30 + ano1 * 365\n",
        "\n",
        "total_dias2 = dia2 + mes2 * 30 + ano2 * 365\n",
        "\n",
        "diferenca = abs(total_dias2 - total_dias1)\n",
        "\n",
        "print(f\"A diferença entre as duas datas é de {diferenca} dias.\")\n"
      ],
      "metadata": {
        "id": "A5dMp49hLPxI"
      },
      "execution_count": null,
      "outputs": []
    },
    {
      "cell_type": "markdown",
      "source": [
        "4. Faça um algoritmo para receber e calcular a nota semestral de um aluno. A nota semestral é obtida pela média aritmética entre a nota de 2 bimestres. Cada nota de bimestre é composta por 2 notas de provas."
      ],
      "metadata": {
        "id": "8SocTS-HLQCN"
      }
    },
    {
      "cell_type": "code",
      "source": [
        "print(\"Informe as notas do primeiro bimestre:\")\n",
        "nota1_bim1 = float(input(\"Nota da primeira prova: \"))\n",
        "nota2_bim1 = float(input(\"Nota da segunda prova: \"))\n",
        "\n",
        "media_bim1 = (nota1_bim1 + nota2_bim1) / 2\n",
        "\n",
        "print(\"\\nInforme as notas do segundo bimestre:\")\n",
        "nota1_bim2 = float(input(\"Nota da primeira prova: \"))\n",
        "nota2_bim2 = float(input(\"Nota da segunda prova: \"))\n",
        "\n",
        "media_bim2 = (nota1_bim2 + nota2_bim2) / 2\n",
        "\n",
        "# Calcula a média semestral\n",
        "media_semestral = (media_bim1 + media_bim2) / 2\n",
        "\n",
        "# Exibe a média semestral\n",
        "print(f\"\\nA média semestral do aluno é: {media_semestral:.2f}\")\n"
      ],
      "metadata": {
        "id": "xFw9w400MX__"
      },
      "execution_count": null,
      "outputs": []
    }
  ]
}