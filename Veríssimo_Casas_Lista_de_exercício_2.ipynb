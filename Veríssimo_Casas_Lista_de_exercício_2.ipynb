{
  "nbformat": 4,
  "nbformat_minor": 0,
  "metadata": {
    "colab": {
      "provenance": []
    },
    "kernelspec": {
      "name": "python3",
      "display_name": "Python 3"
    },
    "language_info": {
      "name": "python"
    }
  },
  "cells": [
    {
      "cell_type": "markdown",
      "source": [
        "1. Faça um programa que pergunte que dia é, e diga quantos faltam até o final do mês. Considere o mês com trinta e um dias."
      ],
      "metadata": {
        "id": "FNkhibJPZM_J"
      }
    },
    {
      "cell_type": "code",
      "execution_count": null,
      "metadata": {
        "id": "519dymw_TDGg"
      },
      "outputs": [],
      "source": [
        "Dia_Hoje = int(input(f'Qual o dia de hoje?'))\n",
        "\n",
        "resto_mes = 30 - Dia_Hoje\n",
        "\n",
        "print(f'Faltam {resto_mes} dias para o final do mês')"
      ]
    },
    {
      "cell_type": "markdown",
      "source": [
        "2. Faça um programa que receba o número de brindes do \"Maria vai com as Devs\" que a Jéssica vai mandar fazer, e imprima quanto de entrada ela irá que pagar. Considere que cada brinde custa R$25,00, e a entrada para o fabricante é de 50% do valor total."
      ],
      "metadata": {
        "id": "uirlqYKKZZEH"
      }
    },
    {
      "cell_type": "code",
      "source": [
        "valor_brinde = 25\n",
        "entrada_fabricante = 0.5\n",
        "\n",
        "quantidade_brinde = int(input(f'Quantos brindes você quer fazer?'))\n",
        "\n",
        "valor_total = valor_brinde * quantidade_brinde\n",
        "\n",
        "valor_fabricante = valor_total * entrada_fabricante\n",
        "\n",
        "print(f'O valor da entrada para o fabricante é de R${valor_fabricante:.2f}')"
      ],
      "metadata": {
        "id": "4rcFbhmlZegy"
      },
      "execution_count": null,
      "outputs": []
    },
    {
      "cell_type": "markdown",
      "source": [
        "3. A Serasa irá gerar um minicurso de aprendizagem financeira e está planejando um coffee break ás 15 horas.\n",
        "\n",
        "Leia o número de participantes do minicurso e imprima:\n",
        "* Quantos litros de refrigerante teremos que comprar\n",
        "* Quantas coxinhas e quanto iremos gastar.\n",
        "\n",
        "Considere que cada participante toma 400ml de refrigerante, come 10 coxinhas, que cada litro de refrigerante custa 4,00 e cada coxinha  custa  0,50."
      ],
      "metadata": {
        "id": "EQ_jyUXsZlvO"
      }
    },
    {
      "cell_type": "code",
      "source": [],
      "metadata": {
        "id": "jgkLK-fUZug_"
      },
      "execution_count": null,
      "outputs": []
    },
    {
      "cell_type": "markdown",
      "source": [
        "4. Para que a Jéssica consiga enviar os brindes e não errar na preferência de cores de todas as participantes, ela precisa saber a quantidade de pessoas que preferem a cor rosa, roxo ou azul. Faça um programa que leia a quantidade de pessoas que preferem cada cor e retorne a porcentagem de cada uma destas cores."
      ],
      "metadata": {
        "id": "XRtM7qu1aAuE"
      }
    },
    {
      "cell_type": "code",
      "source": [
        "cor_rosa = int(input('Quantas pessoas preferem a cor rosa?'))\n",
        "cor_roxo = int(input('Quantas pessoas preferem a cor roxo?'))\n",
        "cor_azul = int(input('Quantas pessoas preferem a cor azul?'))\n",
        "\n",
        "porcentagem_rosa = (cor_rosa / (cor_rosa + cor_roxo + cor_azul)) * 100\n",
        "porcentagem_roxo = (cor_roxo / (cor_rosa + cor_roxo + cor_azul)) * 100\n",
        "porcentagem_azul = (cor_azul / (cor_rosa + cor_roxo + cor_azul)) * 100\n",
        "\n",
        "print(f'A porcentagem de pessoas que preferem a cor rosa é de {porcentagem_rosa:.2f}%')"
      ],
      "metadata": {
        "id": "woJEI3REaMZN"
      },
      "execution_count": null,
      "outputs": []
    },
    {
      "cell_type": "markdown",
      "source": [
        "5. Construa um programa no qual um usuário informe a sua estatura em metros e o programa converta-a para centímetros."
      ],
      "metadata": {
        "id": "SApGUct7aM1I"
      }
    },
    {
      "cell_type": "code",
      "source": [
        "num = float(input('Digite sua altura em metros: '))\n",
        "\n",
        "centimetros = num * 100\n",
        "\n",
        "print(f'Sua altura em centímetros é: {centimetros}')"
      ],
      "metadata": {
        "id": "Jvw2zAcFa0yM"
      },
      "execution_count": null,
      "outputs": []
    },
    {
      "cell_type": "markdown",
      "source": [
        "6. Construa um programa que receba do usuário a variação do deslocamento de um objeto (em metros) e a variação do tempo percorrido (em segundo). Ao fim, o programa deve calcular a\n",
        "velocidade média, em m/s, do objeto.\n",
        "\n",
        "Velocidade média: ![Vel_Media.png](data:image/png;base64,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)\n"
      ],
      "metadata": {
        "id": "LfUVXLrGa1gi"
      }
    },
    {
      "cell_type": "code",
      "source": [
        "input_velocidade = float(input(\"Digite a velocidade do objeto: \"))\n",
        "input_tempo = float(input(\"Digite o tempo percorrido: \"))\n",
        "\n",
        "velocidade_media = input_velocidade / input_tempo\n",
        "\n",
        "print(\"A velocidade média do objeto é: \", velocidade_media)"
      ],
      "metadata": {
        "id": "-DXSjEENzLXJ"
      },
      "execution_count": null,
      "outputs": []
    },
    {
      "cell_type": "markdown",
      "source": [
        "7. Construa um programa para calcular a área de convivência de uma escola cujo formato é circular. Para isso, o usuário deve informar o valor do raio.\n",
        "\n",
        "Relembrando do conteúdo estudado em Geometria, a área limitada por uma circunferência corresponde ao produto entre a constante e o raio da circunferência, isto é, ![area.png](data:image/png;base64,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)"
      ],
      "metadata": {
        "id": "xB658C0gbaDB"
      }
    },
    {
      "cell_type": "code",
      "source": [
        "valor_raio = float(input(\"Digite o valor do raio: \"))\n",
        "\n",
        "area_circulo = 3.14 * (valor_raio ** 2)\n",
        "\n",
        "print(f\"A área do círculo é: {area_circulo}\")"
      ],
      "metadata": {
        "id": "jA9K1pdDcBab"
      },
      "execution_count": null,
      "outputs": []
    },
    {
      "cell_type": "markdown",
      "source": [
        "8. Faça um programa que receba a altura inicial de uma árvore, a taxa de crescimento ao ano e uma quantidade n de anos. Este programa deve calcular altura desta árvore após n anos."
      ],
      "metadata": {
        "id": "NjHMJKL3cSjI"
      }
    },
    {
      "cell_type": "code",
      "source": [
        "altura_inicial = float(input(\"Digite a altura inicial da árvore em metros: \"))\n",
        "taxa_crescimento = float(input(\"Digite a taxa de crescimento da árvore em metros por ano: \"))\n",
        "anos = int(input(\"Digite a quantidade de anos: \"))\n",
        "\n",
        "altura_final = altura_inicial\n",
        "\n",
        "for ano in range(anos):\n",
        "    altura_final += taxa_crescimento\n",
        "\n",
        "print(f\"A altura final da árvore após {anos} anos é: {altura_final:.2f} metros\")"
      ],
      "metadata": {
        "id": "VK7oYQ1kg9nd"
      },
      "execution_count": null,
      "outputs": []
    },
    {
      "cell_type": "markdown",
      "source": [
        "9. Faça  um  programa  para  calcular  e mostrar  o  valor  a  pagar  pela  anuidade  de  uma  associação  em  cada um dos  meses.  O  valor  básico,  informado  pelo  usuário, é  válido  apenas  para  o  mês  de  janeiro.  Nos  meses subsequentes, há um acréscimo de 5% ao mês de juros (com juros sobre juros).\n",
        "\n",
        "Por exemplo, valor em janeiro: R\\$100; em fevereiro, custa R\\$105; em março, custa R\\$110,25; e, em dezembro, R\\$171,03."
      ],
      "metadata": {
        "id": "NsEzxY8og-hz"
      }
    },
    {
      "cell_type": "code",
      "source": [
        "valor_basico = float(input(\"Digite o valor básico da anuidade: \"))\n",
        "\n",
        "juros = 0.05\n",
        "\n",
        "valor_atual = valor_basico\n",
        "\n",
        "for mes in range(1, 13):\n",
        "    valor_atual += valor_atual * juros\n",
        "    print(f\"Mês {mes}: R${valor_atual:.2f}\")\n"
      ],
      "metadata": {
        "id": "dUO87BGChKo6"
      },
      "execution_count": null,
      "outputs": []
    },
    {
      "cell_type": "markdown",
      "source": [
        "10. Escreva um programa para determinar o valor do imposto a ser pago. O programa deve receber o valor e calcular um imposto de 35% sobre o produto. Apresente o valor referente ao imposto e o valor total (Valor do produto + imposto calculado)."
      ],
      "metadata": {
        "id": "pkgHpa5RhNEo"
      }
    },
    {
      "cell_type": "code",
      "source": [
        "imposto = 0.35\n",
        "\n",
        "valor_produto = float(input(\"Digite o valor do produto: \"))\n",
        "\n",
        "valor_imposto = valor_produto * imposto\n",
        "\n",
        "valor_total = valor_produto + valor_imposto\n",
        "\n",
        "print(f\"O valor do imposto é: {valor_imposto:.2f}\")\n",
        "print(f\"O valor total é: {valor_total:.2f}\")"
      ],
      "metadata": {
        "id": "lQBBoQhIkK25"
      },
      "execution_count": null,
      "outputs": []
    }
  ]
}