{
  "nbformat": 4,
  "nbformat_minor": 0,
  "metadata": {
    "colab": {
      "provenance": []
    },
    "kernelspec": {
      "name": "python3",
      "display_name": "Python 3"
    },
    "language_info": {
      "name": "python"
    }
  },
  "cells": [
    {
      "cell_type": "markdown",
      "source": [
        "1. Utilizando uma lista, faça um Programa que leia 5 números inteiros e mostre-os."
      ],
      "metadata": {
        "id": "kZDIzQJAIm3g"
      }
    },
    {
      "cell_type": "code",
      "execution_count": null,
      "metadata": {
        "id": "xADCnDwrIllP",
        "colab": {
          "base_uri": "https://localhost:8080/",
          "height": 339
        },
        "outputId": "ad9e50a6-88ac-4141-9a1a-de467f6ea657"
      },
      "outputs": [
        {
          "output_type": "error",
          "ename": "KeyboardInterrupt",
          "evalue": "Interrupted by user",
          "traceback": [
            "\u001b[0;31m---------------------------------------------------------------------------\u001b[0m",
            "\u001b[0;31mKeyboardInterrupt\u001b[0m                         Traceback (most recent call last)",
            "\u001b[0;32m<ipython-input-2-cb1d3e0c8f20>\u001b[0m in \u001b[0;36m<cell line: 2>\u001b[0;34m()\u001b[0m\n\u001b[1;32m      1\u001b[0m \u001b[0mlista\u001b[0m \u001b[0;34m=\u001b[0m \u001b[0;34m[\u001b[0m\u001b[0;34m]\u001b[0m\u001b[0;34m\u001b[0m\u001b[0;34m\u001b[0m\u001b[0m\n\u001b[1;32m      2\u001b[0m \u001b[0;32mfor\u001b[0m \u001b[0mi\u001b[0m \u001b[0;32min\u001b[0m \u001b[0mrange\u001b[0m\u001b[0;34m(\u001b[0m\u001b[0;36m5\u001b[0m\u001b[0;34m)\u001b[0m\u001b[0;34m:\u001b[0m\u001b[0;34m\u001b[0m\u001b[0;34m\u001b[0m\u001b[0m\n\u001b[0;32m----> 3\u001b[0;31m     \u001b[0mlista\u001b[0m\u001b[0;34m.\u001b[0m\u001b[0mappend\u001b[0m\u001b[0;34m(\u001b[0m\u001b[0mint\u001b[0m\u001b[0;34m(\u001b[0m\u001b[0minput\u001b[0m\u001b[0;34m(\u001b[0m\u001b[0;34m\"Digite um número: \"\u001b[0m\u001b[0;34m)\u001b[0m\u001b[0;34m)\u001b[0m\u001b[0;34m)\u001b[0m\u001b[0;34m\u001b[0m\u001b[0;34m\u001b[0m\u001b[0m\n\u001b[0m\u001b[1;32m      4\u001b[0m \u001b[0mprint\u001b[0m\u001b[0;34m(\u001b[0m\u001b[0mlista\u001b[0m\u001b[0;34m)\u001b[0m\u001b[0;34m\u001b[0m\u001b[0;34m\u001b[0m\u001b[0m\n",
            "\u001b[0;32m/usr/local/lib/python3.10/dist-packages/ipykernel/kernelbase.py\u001b[0m in \u001b[0;36mraw_input\u001b[0;34m(self, prompt)\u001b[0m\n\u001b[1;32m    849\u001b[0m                 \u001b[0;34m\"raw_input was called, but this frontend does not support input requests.\"\u001b[0m\u001b[0;34m\u001b[0m\u001b[0;34m\u001b[0m\u001b[0m\n\u001b[1;32m    850\u001b[0m             )\n\u001b[0;32m--> 851\u001b[0;31m         return self._input_request(str(prompt),\n\u001b[0m\u001b[1;32m    852\u001b[0m             \u001b[0mself\u001b[0m\u001b[0;34m.\u001b[0m\u001b[0m_parent_ident\u001b[0m\u001b[0;34m,\u001b[0m\u001b[0;34m\u001b[0m\u001b[0;34m\u001b[0m\u001b[0m\n\u001b[1;32m    853\u001b[0m             \u001b[0mself\u001b[0m\u001b[0;34m.\u001b[0m\u001b[0m_parent_header\u001b[0m\u001b[0;34m,\u001b[0m\u001b[0;34m\u001b[0m\u001b[0;34m\u001b[0m\u001b[0m\n",
            "\u001b[0;32m/usr/local/lib/python3.10/dist-packages/ipykernel/kernelbase.py\u001b[0m in \u001b[0;36m_input_request\u001b[0;34m(self, prompt, ident, parent, password)\u001b[0m\n\u001b[1;32m    893\u001b[0m             \u001b[0;32mexcept\u001b[0m \u001b[0mKeyboardInterrupt\u001b[0m\u001b[0;34m:\u001b[0m\u001b[0;34m\u001b[0m\u001b[0;34m\u001b[0m\u001b[0m\n\u001b[1;32m    894\u001b[0m                 \u001b[0;31m# re-raise KeyboardInterrupt, to truncate traceback\u001b[0m\u001b[0;34m\u001b[0m\u001b[0;34m\u001b[0m\u001b[0m\n\u001b[0;32m--> 895\u001b[0;31m                 \u001b[0;32mraise\u001b[0m \u001b[0mKeyboardInterrupt\u001b[0m\u001b[0;34m(\u001b[0m\u001b[0;34m\"Interrupted by user\"\u001b[0m\u001b[0;34m)\u001b[0m \u001b[0;32mfrom\u001b[0m \u001b[0;32mNone\u001b[0m\u001b[0;34m\u001b[0m\u001b[0;34m\u001b[0m\u001b[0m\n\u001b[0m\u001b[1;32m    896\u001b[0m             \u001b[0;32mexcept\u001b[0m \u001b[0mException\u001b[0m \u001b[0;32mas\u001b[0m \u001b[0me\u001b[0m\u001b[0;34m:\u001b[0m\u001b[0;34m\u001b[0m\u001b[0;34m\u001b[0m\u001b[0m\n\u001b[1;32m    897\u001b[0m                 \u001b[0mself\u001b[0m\u001b[0;34m.\u001b[0m\u001b[0mlog\u001b[0m\u001b[0;34m.\u001b[0m\u001b[0mwarning\u001b[0m\u001b[0;34m(\u001b[0m\u001b[0;34m\"Invalid Message:\"\u001b[0m\u001b[0;34m,\u001b[0m \u001b[0mexc_info\u001b[0m\u001b[0;34m=\u001b[0m\u001b[0;32mTrue\u001b[0m\u001b[0;34m)\u001b[0m\u001b[0;34m\u001b[0m\u001b[0;34m\u001b[0m\u001b[0m\n",
            "\u001b[0;31mKeyboardInterrupt\u001b[0m: Interrupted by user"
          ]
        }
      ],
      "source": [
        "lista = []\n",
        "for i in range(5):\n",
        "    lista.append(int(input(\"Digite um número: \")))\n",
        "print(lista)"
      ]
    },
    {
      "cell_type": "markdown",
      "source": [
        "2. Faça um Programa que leia uma lista de 10 caracteres, e diga quantas consoantes foram lidas. Imprima as consoantes."
      ],
      "metadata": {
        "id": "5p1HferyIqaB"
      }
    },
    {
      "cell_type": "code",
      "source": [
        "vogais = [\"a\", \"e\", \"i\", \"o\", \"u\"]\n",
        "input_consoantes = []\n",
        "\n",
        "for i in range(10):\n",
        "    letra = (input(\"Digite uma letra: \")).lower()\n",
        "    if letra not in vogais:\n",
        "        input_consoantes.append(letra)\n",
        "print(f\"Consoantes: {str(input_consoantes)[1:-1]}: {len(input_consoantes)}\")\n"
      ],
      "metadata": {
        "id": "rsOBjyAvIxP5",
        "colab": {
          "base_uri": "https://localhost:8080/"
        },
        "outputId": "31c12cc0-83e3-4398-9ea2-02cd8dc33733"
      },
      "execution_count": null,
      "outputs": [
        {
          "output_type": "stream",
          "name": "stdout",
          "text": [
            "Digite uma letra: g\n",
            "Digite uma letra: b\n",
            "Digite uma letra: a\n",
            "Digite uma letra: s\n",
            "Digite uma letra: re\n",
            "Digite uma letra: \n",
            "Digite uma letra: \n",
            "Digite uma letra: \n",
            "Digite uma letra: \n",
            "Digite uma letra: \n",
            "Consoantes: 'g', 'b', 's', 're', '', '', '', '', '': 9\n"
          ]
        }
      ]
    },
    {
      "cell_type": "markdown",
      "source": [
        "3.\tElaborar um programa que receba 10 valores inteiros em uma lista e dobre os valores destes elementos na lista."
      ],
      "metadata": {
        "id": "rN48wNz0IxsF"
      }
    },
    {
      "cell_type": "code",
      "source": [
        "lista = []\n",
        "for i in range(3):\n",
        "    lista.append(int(input(\"Digite um número: \")))\n",
        "    lista[i] *= 2\n",
        "print(lista)"
      ],
      "metadata": {
        "id": "A5dMp49hLPxI",
        "colab": {
          "base_uri": "https://localhost:8080/"
        },
        "outputId": "02fc7e90-8bff-4383-86a1-ee774bbad424"
      },
      "execution_count": null,
      "outputs": [
        {
          "output_type": "stream",
          "name": "stdout",
          "text": [
            "Digite um número: 2\n",
            "Digite um número: 3\n",
            "Digite um número: 5\n",
            "[4, 6, 10]\n"
          ]
        }
      ]
    },
    {
      "cell_type": "markdown",
      "source": [
        "4.\tElaborar um programa para computar o maior e o menor elemento de uma lista de 10 valores digitados pelo usuário e suas posições na lista. Não é permitido utilizar funções."
      ],
      "metadata": {
        "id": "8SocTS-HLQCN"
      }
    },
    {
      "cell_type": "code",
      "source": [
        "num_list = []\n",
        "maior = -1\n",
        "menor =\n",
        "\n",
        "for i in range(3):\n",
        "    num_list.append(int(input(\"Digite um numero: \")))\n",
        "\n",
        "for i in num_list:\n",
        "  if i > maior:\n",
        "    maior = i\n",
        "  elif i < menor:\n",
        "    menor = i\n",
        "\n",
        "print(f\"Maior: {maior} na posição {num_list.index(maior)}\")\n",
        "print(f\"Menor: {menor} na posição {num_list.index(menor)}\")"
      ],
      "metadata": {
        "id": "xFw9w400MX__",
        "colab": {
          "base_uri": "https://localhost:8080/",
          "height": 263
        },
        "outputId": "6106002a-47fe-43de-be08-e015f1ce87e4"
      },
      "execution_count": null,
      "outputs": [
        {
          "name": "stdout",
          "output_type": "stream",
          "text": [
            "Digite um numero: 5\n",
            "Digite um numero: 3\n",
            "Digite um numero: 7\n"
          ]
        },
        {
          "output_type": "error",
          "ename": "TypeError",
          "evalue": "'<' not supported between instances of 'int' and 'str'",
          "traceback": [
            "\u001b[0;31m---------------------------------------------------------------------------\u001b[0m",
            "\u001b[0;31mTypeError\u001b[0m                                 Traceback (most recent call last)",
            "\u001b[0;32m<ipython-input-15-0b56b75e6564>\u001b[0m in \u001b[0;36m<cell line: 8>\u001b[0;34m()\u001b[0m\n\u001b[1;32m      9\u001b[0m   \u001b[0;32mif\u001b[0m \u001b[0mi\u001b[0m \u001b[0;34m>\u001b[0m \u001b[0mmaior\u001b[0m\u001b[0;34m:\u001b[0m\u001b[0;34m\u001b[0m\u001b[0;34m\u001b[0m\u001b[0m\n\u001b[1;32m     10\u001b[0m     \u001b[0mmaior\u001b[0m \u001b[0;34m=\u001b[0m \u001b[0mi\u001b[0m\u001b[0;34m\u001b[0m\u001b[0;34m\u001b[0m\u001b[0m\n\u001b[0;32m---> 11\u001b[0;31m   \u001b[0;32melif\u001b[0m \u001b[0mi\u001b[0m \u001b[0;34m<\u001b[0m \u001b[0mmenor\u001b[0m\u001b[0;34m:\u001b[0m\u001b[0;34m\u001b[0m\u001b[0;34m\u001b[0m\u001b[0m\n\u001b[0m\u001b[1;32m     12\u001b[0m     \u001b[0mmenor\u001b[0m \u001b[0;34m=\u001b[0m \u001b[0mi\u001b[0m\u001b[0;34m\u001b[0m\u001b[0;34m\u001b[0m\u001b[0m\n\u001b[1;32m     13\u001b[0m \u001b[0;34m\u001b[0m\u001b[0m\n",
            "\u001b[0;31mTypeError\u001b[0m: '<' not supported between instances of 'int' and 'str'"
          ]
        }
      ]
    },
    {
      "cell_type": "markdown",
      "source": [
        "5.\tFaça um Programa que leia 20 números inteiros e armazene-os em listas. Os valores pares devem ser armazenados na lista PAR e os números IMPARES na lista ímpar. Imprima as duas listas."
      ],
      "metadata": {
        "id": "QpgiMEQ4zzFO"
      }
    },
    {
      "cell_type": "code",
      "source": [
        "par = []\n",
        "impar = []\n",
        "\n",
        "for i in range(5):\n",
        "    num = int(input(\"Digite um número: \"))\n",
        "    if num % 2 == 0:\n",
        "        par.append(num)\n",
        "    else:\n",
        "        impar.append(num)\n",
        "\n",
        "print(f\"Par: {par}\")\n",
        "print(f\"Impar: {impar}\")"
      ],
      "metadata": {
        "id": "tk5l19oG0bFP"
      },
      "execution_count": null,
      "outputs": []
    },
    {
      "cell_type": "markdown",
      "source": [
        "6.\tFaça um Programa que armazene duas listas com 10 elementos cada. Gere uma terceira lista com a soma dos elementos de cada um dos índices."
      ],
      "metadata": {
        "id": "AM8Mp_Miz1vc"
      }
    },
    {
      "cell_type": "code",
      "source": [
        "# Inicializa as duas listas\n",
        "lista1 = []\n",
        "lista2 = []\n",
        "\n",
        "# Recebe os elementos da primeira lista\n",
        "print(\"Insira os elementos da primeira lista:\")\n",
        "for i in range(10):\n",
        "    elemento = float(input(f\"Elemento {i + 1}: \"))\n",
        "    lista1.append(elemento)\n",
        "\n",
        "# Recebe os elementos da segunda lista\n",
        "print(\"\\nInsira os elementos da segunda lista:\")\n",
        "for i in range(10):\n",
        "    elemento = float(input(f\"Elemento {i + 1}: \"))\n",
        "    lista2.append(elemento)\n",
        "\n",
        "# Gera a terceira lista com a soma dos elementos de cada índice\n",
        "lista3 = [lista1[i] + lista2[i] for i in range(10)]\n",
        "\n",
        "# Exibe a terceira lista\n",
        "print(\"\\nA terceira lista com a soma dos elementos correspondentes é:\")\n",
        "print(lista3)\n"
      ],
      "metadata": {
        "id": "w_r6cT_B0bkU",
        "colab": {
          "base_uri": "https://localhost:8080/",
          "height": 356
        },
        "outputId": "39c9d61f-d54a-488d-ddd4-bdac3f0d5e97"
      },
      "execution_count": null,
      "outputs": [
        {
          "output_type": "error",
          "ename": "KeyboardInterrupt",
          "evalue": "Interrupted by user",
          "traceback": [
            "\u001b[0;31m---------------------------------------------------------------------------\u001b[0m",
            "\u001b[0;31mKeyboardInterrupt\u001b[0m                         Traceback (most recent call last)",
            "\u001b[0;32m<ipython-input-1-3fdd566f18d3>\u001b[0m in \u001b[0;36m<cell line: 5>\u001b[0;34m()\u001b[0m\n\u001b[1;32m      4\u001b[0m \u001b[0;34m\u001b[0m\u001b[0m\n\u001b[1;32m      5\u001b[0m \u001b[0;32mfor\u001b[0m \u001b[0mi\u001b[0m \u001b[0;32min\u001b[0m \u001b[0mrange\u001b[0m\u001b[0;34m(\u001b[0m\u001b[0;36m3\u001b[0m\u001b[0;34m)\u001b[0m\u001b[0;34m:\u001b[0m\u001b[0;34m\u001b[0m\u001b[0;34m\u001b[0m\u001b[0m\n\u001b[0;32m----> 6\u001b[0;31m     \u001b[0mlista1\u001b[0m\u001b[0;34m.\u001b[0m\u001b[0mappend\u001b[0m\u001b[0;34m(\u001b[0m\u001b[0mint\u001b[0m\u001b[0;34m(\u001b[0m\u001b[0minput\u001b[0m\u001b[0;34m(\u001b[0m\u001b[0;34m\"Digite um número: \"\u001b[0m\u001b[0;34m)\u001b[0m\u001b[0;34m)\u001b[0m\u001b[0;34m)\u001b[0m\u001b[0;34m\u001b[0m\u001b[0;34m\u001b[0m\u001b[0m\n\u001b[0m\u001b[1;32m      7\u001b[0m     \u001b[0mlista2\u001b[0m\u001b[0;34m.\u001b[0m\u001b[0mappend\u001b[0m\u001b[0;34m(\u001b[0m\u001b[0mint\u001b[0m\u001b[0;34m(\u001b[0m\u001b[0minput\u001b[0m\u001b[0;34m(\u001b[0m\u001b[0;34m\"Digite um número: \"\u001b[0m\u001b[0;34m)\u001b[0m\u001b[0;34m)\u001b[0m\u001b[0;34m)\u001b[0m\u001b[0;34m\u001b[0m\u001b[0;34m\u001b[0m\u001b[0m\n\u001b[1;32m      8\u001b[0m     \u001b[0mlista3\u001b[0m\u001b[0;34m.\u001b[0m\u001b[0mappend\u001b[0m\u001b[0;34m(\u001b[0m\u001b[0mlista1\u001b[0m\u001b[0;34m[\u001b[0m\u001b[0mi\u001b[0m\u001b[0;34m]\u001b[0m \u001b[0;34m+\u001b[0m \u001b[0mlista2\u001b[0m\u001b[0;34m[\u001b[0m\u001b[0mi\u001b[0m\u001b[0;34m]\u001b[0m\u001b[0;34m)\u001b[0m\u001b[0;34m\u001b[0m\u001b[0;34m\u001b[0m\u001b[0m\n",
            "\u001b[0;32m/usr/local/lib/python3.10/dist-packages/ipykernel/kernelbase.py\u001b[0m in \u001b[0;36mraw_input\u001b[0;34m(self, prompt)\u001b[0m\n\u001b[1;32m    849\u001b[0m                 \u001b[0;34m\"raw_input was called, but this frontend does not support input requests.\"\u001b[0m\u001b[0;34m\u001b[0m\u001b[0;34m\u001b[0m\u001b[0m\n\u001b[1;32m    850\u001b[0m             )\n\u001b[0;32m--> 851\u001b[0;31m         return self._input_request(str(prompt),\n\u001b[0m\u001b[1;32m    852\u001b[0m             \u001b[0mself\u001b[0m\u001b[0;34m.\u001b[0m\u001b[0m_parent_ident\u001b[0m\u001b[0;34m,\u001b[0m\u001b[0;34m\u001b[0m\u001b[0;34m\u001b[0m\u001b[0m\n\u001b[1;32m    853\u001b[0m             \u001b[0mself\u001b[0m\u001b[0;34m.\u001b[0m\u001b[0m_parent_header\u001b[0m\u001b[0;34m,\u001b[0m\u001b[0;34m\u001b[0m\u001b[0;34m\u001b[0m\u001b[0m\n",
            "\u001b[0;32m/usr/local/lib/python3.10/dist-packages/ipykernel/kernelbase.py\u001b[0m in \u001b[0;36m_input_request\u001b[0;34m(self, prompt, ident, parent, password)\u001b[0m\n\u001b[1;32m    893\u001b[0m             \u001b[0;32mexcept\u001b[0m \u001b[0mKeyboardInterrupt\u001b[0m\u001b[0;34m:\u001b[0m\u001b[0;34m\u001b[0m\u001b[0;34m\u001b[0m\u001b[0m\n\u001b[1;32m    894\u001b[0m                 \u001b[0;31m# re-raise KeyboardInterrupt, to truncate traceback\u001b[0m\u001b[0;34m\u001b[0m\u001b[0;34m\u001b[0m\u001b[0m\n\u001b[0;32m--> 895\u001b[0;31m                 \u001b[0;32mraise\u001b[0m \u001b[0mKeyboardInterrupt\u001b[0m\u001b[0;34m(\u001b[0m\u001b[0;34m\"Interrupted by user\"\u001b[0m\u001b[0;34m)\u001b[0m \u001b[0;32mfrom\u001b[0m \u001b[0;32mNone\u001b[0m\u001b[0;34m\u001b[0m\u001b[0;34m\u001b[0m\u001b[0m\n\u001b[0m\u001b[1;32m    896\u001b[0m             \u001b[0;32mexcept\u001b[0m \u001b[0mException\u001b[0m \u001b[0;32mas\u001b[0m \u001b[0me\u001b[0m\u001b[0;34m:\u001b[0m\u001b[0;34m\u001b[0m\u001b[0;34m\u001b[0m\u001b[0m\n\u001b[1;32m    897\u001b[0m                 \u001b[0mself\u001b[0m\u001b[0;34m.\u001b[0m\u001b[0mlog\u001b[0m\u001b[0;34m.\u001b[0m\u001b[0mwarning\u001b[0m\u001b[0;34m(\u001b[0m\u001b[0;34m\"Invalid Message:\"\u001b[0m\u001b[0;34m,\u001b[0m \u001b[0mexc_info\u001b[0m\u001b[0;34m=\u001b[0m\u001b[0;32mTrue\u001b[0m\u001b[0;34m)\u001b[0m\u001b[0;34m\u001b[0m\u001b[0;34m\u001b[0m\u001b[0m\n",
            "\u001b[0;31mKeyboardInterrupt\u001b[0m: Interrupted by user"
          ]
        }
      ]
    },
    {
      "cell_type": "markdown",
      "source": [
        "7.\tFaça um programa que receba a temperatura média de cada mês do ano e armazene-as em um dicionário. Após isto, calcule a média anual das temperaturas e mostre todas as temperaturas acima da média anual, e em que mês elas ocorreram (mostrar o mês por extenso: 1 – Janeiro, 2 – Fevereiro, . . . )."
      ],
      "metadata": {
        "id": "OdYOkHtPz4Eu"
      }
    },
    {
      "cell_type": "code",
      "source": [
        "ano = {\n",
        "    \"Janeiro\": 0,\n",
        "    \"Fevereiro\": 0,\n",
        "    \"Março\": 0,\n",
        "    \"Abril\": 0,\n",
        "    \"Maio\": 0,\n",
        "    \"Junho\": 0,\n",
        "}\n",
        "\n",
        "for mes in ano:\n",
        "    ano[mes] = int(input(f\"Digite a temperatura média de {mes}: \"))\n",
        "\n",
        "    media = sum(ano.values()) / len(ano)\n",
        "\n",
        "for mes in ano:\n",
        "    if ano[mes] > media:\n",
        "        print(f\"{mes}: {ano[mes]}\")"
      ],
      "metadata": {
        "id": "Z0jxsZWD0cX4"
      },
      "execution_count": null,
      "outputs": []
    },
    {
      "cell_type": "markdown",
      "source": [
        "8.\tEm uma competição de salto em distância cada atleta tem direito a cinco saltos. O resultado do atleta será determinado pela média dos cinco valores. Você deve fazer um programa que receba o nome e as cinco distâncias alcançadas pelo atleta em seus saltos e depois informe o nome, os saltos e a média dos saltos. O programa deve ser encerrado quando for informado o valor 0 no nome do atleta. Mostre no final os três primeiros colocados:\n",
        "\n",
        "\n",
        "* Resultado final (1º Colocado):\n",
        "* Atleta: Rodrigo Otávio\n",
        "* Saltos: 6.5 - 6.1 - 6.2 - 5.4 - 5.3\n",
        "* Média dos saltos: 5.9 m\n"
      ],
      "metadata": {
        "id": "cgrDRkbmz6MY"
      }
    },
    {
      "cell_type": "code",
      "source": [
        "atletas = []\n",
        "\n",
        "while True:\n",
        "    nome = input(\"Nome do atleta (ou 0 para encerrar): \")\n",
        "    if nome == \"0\":\n",
        "        break\n",
        "\n",
        "    saltos = []\n",
        "    for i in range(5):\n",
        "        salto = float(input(f\"Distância do salto {i + 1}: \"))\n",
        "        saltos.append(salto)\n",
        "\n",
        "    media = sum(saltos) / 5\n",
        "    atletas.append((nome, saltos, media))\n",
        "\n",
        "atletas.sort(key=lambda x: x[2], reverse=True)\n",
        "\n",
        "print(\"\\nResultado final:\")\n",
        "for i, (nome, saltos, media) in enumerate(atletas[:3], 1):\n",
        "    saltos_str = \" - \".join(map(str, saltos))\n",
        "    print(f\"\\n{i}º Colocado:\")\n",
        "    print(f\"Atleta: {nome}\")\n",
        "    print(f\"Saltos: {saltos_str}\")\n",
        "    print(f\"Média dos saltos: {media:.1f} m\")\n"
      ],
      "metadata": {
        "id": "MNhvzzPn0dGq"
      },
      "execution_count": null,
      "outputs": []
    },
    {
      "cell_type": "markdown",
      "source": [
        "9.\tUma empresa de pesquisas precisa tabular os resultados da seguinte enquete feita a uma grande quantidade de organizações:\n",
        "\"Qual o melhor Sistema Operacional para uso em servidores?\"\n",
        "\n",
        "As possíveis respostas são:\n",
        "* 1 - Windows Server\n",
        "* 2 - Unix\n",
        "* 3 - Linux\n",
        "* 4 - Netware\n",
        "* 5 - Mac OS\n",
        "* 6 - Outro\n",
        "\n",
        "\n",
        "Você foi contratado para desenvolver um programa que leia o resultado da enquete e informe ao final o resultado da mesma. O programa deverá ler os valores até ser informado o valor 0, que encerra a entrada dos dados. Não deverão ser aceitos valores além dos válidos para o programa (0 a 6). Os valores referentes a cada uma das opções devem ser armazenados em um dicionário. Após os dados terem sido completamente informados, o programa deverá calcular o percentual de cada um dos concorrentes e informar o vencedor da enquete.\n"
      ],
      "metadata": {
        "id": "m9UO1BW60MTF"
      }
    },
    {
      "cell_type": "code",
      "source": [
        "# Inicializa o dicionário para contar os votos\n",
        "votos = {\n",
        "    1: 0,  # Windows Server\n",
        "    2: 0,  # Unix\n",
        "    3: 0,  # Linux\n",
        "    4: 0,  # Netware\n",
        "    5: 0,  # Mac OS\n",
        "    6: 0   # Outro\n",
        "}\n",
        "\n",
        "# Lê os votos até que o valor 0 seja informado\n",
        "while True:\n",
        "    voto = int(input(\"Informe o voto (1-6) ou 0 para encerrar: \"))\n",
        "    if voto == 0:\n",
        "        break\n",
        "    if 1 <= voto <= 6:\n",
        "        votos[voto] += 1\n",
        "    else:\n",
        "        print(\"Voto inválido. Tente novamente.\")\n",
        "\n",
        "# Calcula o total de votos\n",
        "total_votos = sum(votos.values())\n",
        "\n",
        "# Verifica se houve votos\n",
        "if total_votos == 0:\n",
        "    print(\"Nenhum voto foi registrado.\")\n",
        "else:\n",
        "    # Calcula o percentual de cada opção e identifica o vencedor\n",
        "    vencedor = max(votos, key=votos.get)\n",
        "    percentuais = {k: (v / total_votos) * 100 for k, v in votos.items()}\n",
        "\n",
        "    # Imprime o resultado\n",
        "    sistemas_operacionais = {\n",
        "        1: \"Windows Server\",\n",
        "        2: \"Unix\",\n",
        "        3: \"Linux\",\n",
        "        4: \"Netware\",\n",
        "        5: \"Mac OS\",\n",
        "        6: \"Outro\"\n",
        "    }\n",
        "\n",
        "    print(\"\\nResultado da enquete:\")\n",
        "    for so, votos in votos.items():\n",
        "        print(f\"{sistemas_operacionais[so]}: {votos} votos ({percentuais[so]:.2f}%)\")\n",
        "\n",
        "    print(f\"\\nO Sistema Operacional mais votado foi o {sistemas_operacionais[vencedor]}, com {votos[vencedor]} votos, correspondendo a {percentuais[vencedor]:.2f}% dos votos.\")\n"
      ],
      "metadata": {
        "id": "VQh6w8VU0d26"
      },
      "execution_count": null,
      "outputs": []
    },
    {
      "cell_type": "markdown",
      "source": [
        "10.\tElabore um programa que é inserido as respostas das provas de 3 alunos, onde o gabarito da prova é “A-A-B-D-E-A-C-C-A-D”, logo após é mostrado as notas que esses alunos obtiveram baseado na correção feita pelo programa. Utiliza lista ou dicionário para resolver o problema."
      ],
      "metadata": {
        "id": "pme3ue6G0Xns"
      }
    },
    {
      "cell_type": "code",
      "source": [
        "# Define o gabarito da prova\n",
        "gabarito = [\"A\", \"A\", \"B\", \"D\", \"E\", \"A\", \"C\", \"C\", \"A\", \"D\"]\n",
        "\n",
        "# Inicializa uma lista para armazenar as respostas dos alunos\n",
        "respostas_alunos = []\n",
        "\n",
        "# Recebe as respostas dos três alunos\n",
        "for i in range(3):\n",
        "    respostas = []\n",
        "    print(f\"\\nInsira as respostas do aluno {i + 1}:\")\n",
        "    for j in range(10):\n",
        "        resposta = input(f\"Resposta da questão {j + 1}: \").upper()\n",
        "        respostas.append(resposta)\n",
        "    respostas_alunos.append(respostas)\n",
        "\n",
        "# Calcula as notas dos alunos\n",
        "notas = []\n",
        "for respostas in respostas_alunos:\n",
        "    nota = sum(1 for i in range(10) if respostas[i] == gabarito[i])\n",
        "    notas.append(nota)\n",
        "\n",
        "# Exibe as notas dos alunos\n",
        "for i, nota in enumerate(notas):\n",
        "    print(f\"\\nNota do aluno {i + 1}: {nota}/10\")\n"
      ],
      "metadata": {
        "id": "h_8V1qYE0e_N"
      },
      "execution_count": null,
      "outputs": []
    }
  ]
}