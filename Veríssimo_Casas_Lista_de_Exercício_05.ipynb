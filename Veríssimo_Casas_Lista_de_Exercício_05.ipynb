{
  "nbformat": 4,
  "nbformat_minor": 0,
  "metadata": {
    "colab": {
      "provenance": []
    },
    "kernelspec": {
      "name": "python3",
      "display_name": "Python 3"
    },
    "language_info": {
      "name": "python"
    }
  },
  "cells": [
    {
      "cell_type": "markdown",
      "source": [
        "1. Escreva um programa que leia três números e que imprima o maior e o menor:"
      ],
      "metadata": {
        "id": "iGwHqkCw2lgT"
      }
    },
    {
      "cell_type": "code",
      "execution_count": null,
      "metadata": {
        "id": "hHi8zE6r2fZv",
        "colab": {
          "base_uri": "https://localhost:8080/"
        },
        "outputId": "161a04fc-7d7f-4539-cd16-cb04244cc0b2"
      },
      "outputs": [
        {
          "output_type": "stream",
          "name": "stdout",
          "text": [
            "Digite um numero: 0\n",
            "Digite um numero: 1\n",
            "Digite um numero: 5\n",
            "O numero maior eh: 5.0\n"
          ]
        }
      ],
      "source": [
        "input_A = float(input(\"Digite um numero: \"))\n",
        "input_B = float(input(\"Digite um numero: \"))\n",
        "input_C = float(input(\"Digite um numero: \"))\n",
        "\n",
        "if input_A > input_B:\n",
        "  print(f\"O numero maior eh: {input_A}\")\n",
        "elif input_B > input_C:\n",
        "  print(f\"O numero maior eh: {input_B}\")\n",
        "else:\n",
        "  print(f\"O numero maior eh: {input_C}\")\n",
        "\n",
        "\n"
      ]
    },
    {
      "cell_type": "markdown",
      "source": [
        "2. Escreva um programa que leia dois números e que pergunte qual operação você deseja realizar. Você deve poder calcular soma (+), subtração (-), multiplicação (*) e divisão (/). Exiba o resultado da operação solicitada."
      ],
      "metadata": {
        "id": "8ET6ZD3Y2n64"
      }
    },
    {
      "cell_type": "code",
      "source": [
        "input_A = float(input(\"Digite um numero: \"))\n",
        "input_B = float(input(\"Digite um numero: \"))\n",
        "\n",
        "print(f\"Somar: +\\nSubtrair: -\\nMultiplicar: *\\nDividir: / \\n\\n{'∆'*50}\")\n",
        "input_caracter = input(\"Digite: \")\n",
        "\n",
        "input_caracter = input_caracter.lower()\n",
        "\n",
        "if input_caracter == \"+\" or input_caracter == \"somar\":\n",
        "  print(f\"Resultado: A + B = {input_A + input_B}\")\n",
        "elif input_caracter == \"-\" or input_caracter == \"subtrair\":\n",
        "  print(f\"Resultado: A - B = {input_A - input_B}\")\n",
        "elif input_caracter == \"*\" or input_caracter == \"multiplicar\":\n",
        "  print(f\"Resultado: A * B = {input_A * input_B}\")\n",
        "elif input_caracter == \"/\" or input_caracter == \"dividir\":\n",
        "  print(f\"Resultado: A / B = {input_A / input_B}\")\n",
        "\n",
        "print(f\"{'∆'*50}\")\n"
      ],
      "metadata": {
        "id": "RgaNMIkP3MdZ",
        "colab": {
          "base_uri": "https://localhost:8080/"
        },
        "outputId": "aba406f9-98de-41b5-9295-e2976fa665e1"
      },
      "execution_count": null,
      "outputs": [
        {
          "output_type": "stream",
          "name": "stdout",
          "text": [
            "Digite um numero: 4\n",
            "Digite um numero: 2\n",
            "Somar: +\n",
            "Subtrair: -\n",
            "Multiplicar: *\n",
            "Dividir: / \n",
            "\n",
            "∆∆∆∆∆∆∆∆∆∆∆∆∆∆∆∆∆∆∆∆∆∆∆∆∆∆∆∆∆∆∆∆∆∆∆∆∆∆∆∆∆∆∆∆∆∆∆∆∆∆\n",
            "Digite: dividir\n",
            "Resultado: A / B = 2.0\n",
            "∆∆∆∆∆∆∆∆∆∆∆∆∆∆∆∆∆∆∆∆∆∆∆∆∆∆∆∆∆∆∆∆∆∆∆∆∆∆∆∆∆∆∆∆∆∆∆∆∆∆\n"
          ]
        }
      ]
    },
    {
      "cell_type": "markdown",
      "source": [
        "3. Escreva um programa Python que receba uma string e verifique se é um palíndromo."
      ],
      "metadata": {
        "id": "wjDS1bX53MxG"
      }
    },
    {
      "cell_type": "code",
      "source": [
        "input_palavra = input(\"Digite uma palavra: \")\n",
        "\n",
        "if input_palavra == input_palavra[::-1]:\n",
        "  print(f\"A palavra {input_palavra} eh um palindromo\")\n",
        "else:\n",
        "  print(f\"A palavra {input_palavra} nao eh um palindromo\")"
      ],
      "metadata": {
        "id": "EWGu_9x_462R",
        "colab": {
          "base_uri": "https://localhost:8080/"
        },
        "outputId": "4a0ab26c-6c4b-4aae-a38a-15d463a44775"
      },
      "execution_count": null,
      "outputs": [
        {
          "output_type": "stream",
          "name": "stdout",
          "text": [
            "Digite uma palavra: Verissimo\n",
            "omissireV\n"
          ]
        }
      ]
    },
    {
      "cell_type": "markdown",
      "source": [
        "4. Faça um Programa que verifique se uma letra digitada é vogal ou consoante."
      ],
      "metadata": {
        "id": "yLnm-pKI47P7"
      }
    },
    {
      "cell_type": "code",
      "source": [
        "lista_vogal = [\"a\", \"e\", \"i\", \"o\", \"u\"]\n",
        "\n",
        "input_letra = input(\"Digite uma letra: \")\n",
        "\n",
        "if input_letra in lista_vogal:\n",
        "  print(f\"A letra {input_letra} eh uma vogal\")\n",
        "\n",
        "else:\n",
        "  print(f\"A letra {input_letra} eh uma consoante\")"
      ],
      "metadata": {
        "id": "oimG54k95gwV"
      },
      "execution_count": null,
      "outputs": []
    },
    {
      "cell_type": "markdown",
      "source": [
        "5. Faça um programa para a leitura de duas notas parciais de um aluno. O programa deve calcular a média alcançada por aluno e apresentar:\n",
        "\n",
        "\n",
        "*   A mensagem \"Aprovado\", se a média alcançada for maior ou igual a sete;\n",
        "*   A mensagem \"Reprovado\", se a média for menor do que sete;\n",
        "*   A mensagem \"Aprovado com Distinção\", se a média for igual a dez."
      ],
      "metadata": {
        "id": "pl6VqI7g5hKL"
      }
    },
    {
      "cell_type": "code",
      "source": [
        "input_nota_1 = float(input(\"Digite a primeira nota: \"))\n",
        "input_nota_2 = float(input(\"Digite a segunda nota: \"))\n",
        "\n",
        "media = (input_nota_1 + input_nota_2) / 2\n",
        "\n",
        "if media == 10:\n",
        "  print(\"Aprovado com Distinção\")\n",
        "elif media >= 7:\n",
        "  print(\"Aprovado\")\n",
        "else:\n",
        "  print(\"Reprovado\")"
      ],
      "metadata": {
        "id": "eZ8rgP__5xT2"
      },
      "execution_count": null,
      "outputs": []
    },
    {
      "cell_type": "markdown",
      "source": [
        "6. Faça um Programa que pergunte em que turno você estuda. Peça para digitar M-matutino ou V-Vespertino ou N- Noturno. Imprima a mensagem \"Bom Dia!\", \"Boa Tarde!\" ou \"Boa Noite!\" ou \"Valor Inválido!\", conforme o caso."
      ],
      "metadata": {
        "id": "W17r77KI5zQT"
      }
    },
    {
      "cell_type": "code",
      "source": [
        "turno_estudo = input(\"Em que turno voce estuda? M-matutino ou V-Vespertino ou N- Noturno: \")\n",
        "\n",
        "if turno_estudo == \"M\" or turno_estudo == \"m\":\n",
        "  print(\"Bom Dia!\")\n",
        "\n",
        "elif turno_estudo == \"V\" or turno_estudo == \"v\":\n",
        "  print(\"Boa Tarde!\")\n",
        "\n",
        "elif turno_estudo == \"N\" or turno_estudo == \"n\":\n",
        "  print(\"Boa Noite!\")\n",
        "\n",
        "else:\n",
        "  print(\"Valor Inválido!\")"
      ],
      "metadata": {
        "id": "_sgwFhao6N-n"
      },
      "execution_count": null,
      "outputs": []
    },
    {
      "cell_type": "markdown",
      "source": [
        "7. Faça um Programa que leia um número e exiba o dia correspondente da semana. (1-Domingo, 2- Segunda, etc.), se digitar outro valor deve aparecer valor inválido."
      ],
      "metadata": {
        "id": "K_3N7mOD6OYM"
      }
    },
    {
      "cell_type": "code",
      "source": [
        "dia_semana = int(input(\"Digite um numero de 1 a 7: \"))\n",
        "\n",
        "if dia_semana == 1:\n",
        "  print(\"Domingo\")\n",
        "elif dia_semana == 2:\n",
        "  print(\"Segunda\")\n",
        "elif dia_semana == 3:\n",
        "  print(\"Terca\")\n",
        "elif dia_semana == 4:\n",
        "  print(\"Quarta\")\n",
        "elif dia_semana == 5:\n",
        "  print(\"Quinta\")\n",
        "elif dia_semana == 6:\n",
        "  print(\"Sexta\")\n",
        "elif dia_semana == 7:\n",
        "  print(\"Sabado\")\n",
        "\n"
      ],
      "metadata": {
        "id": "l-nEYPjg6iNb"
      },
      "execution_count": null,
      "outputs": []
    },
    {
      "cell_type": "markdown",
      "source": [
        "8. Faça um Programa que peça uma data no formato dd/mm/aaaa e determine se a mesma é uma data válida."
      ],
      "metadata": {
        "id": "dDM6OXuo6ing"
      }
    },
    {
      "cell_type": "code",
      "source": [
        "data_input = input(\"Digite uma data no formato dd/mm/aaaa: \")\n",
        "\n",
        "if len(data_input) == 10:\n",
        "  dia = data_input[0:2]\n",
        "  mes = data_input[3:5]\n",
        "  ano = data_input[6:10]\n",
        "else:\n",
        "  print(\"Data invalida\")"
      ],
      "metadata": {
        "id": "a4VFJ5T67xX1"
      },
      "execution_count": null,
      "outputs": []
    },
    {
      "cell_type": "markdown",
      "source": [
        "9. Faça um Programa que leia um número inteiro menor que 1000 e imprima a quantidade de centenas, dezenas e unidades do mesmo.\n",
        "Observando os termos no plural a colocação do \"e\", da vírgula entre outros. Exemplo:\n",
        "326 = 3 centenas, 2 dezenas e 6 unidades\n",
        "12 = 1 dezena e 2 unidades"
      ],
      "metadata": {
        "id": "4R6NTli27yJE"
      }
    },
    {
      "cell_type": "code",
      "source": [
        "valor = int(input(\"Digite um numero inteiro menor que 1000: \"))\n",
        "\n",
        "if valor < 1000:\n",
        "  centena = valor // 100\n",
        "  dezena = (valor % 100) // 10\n",
        "  unidade = (valor % 100) % 10\n",
        "  print(f\"{centena} centena(s), {dezena} dezena(s) e {unidade} unidade(s)\")\n",
        "else:\n",
        "  print(\"Numero invalido\")"
      ],
      "metadata": {
        "id": "D8v1XIEl8Br7"
      },
      "execution_count": null,
      "outputs": []
    }
  ]
}