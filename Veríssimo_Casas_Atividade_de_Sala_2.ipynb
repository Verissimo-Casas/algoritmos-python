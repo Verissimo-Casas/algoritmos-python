{
  "nbformat": 4,
  "nbformat_minor": 0,
  "metadata": {
    "colab": {
      "provenance": []
    },
    "kernelspec": {
      "name": "python3",
      "display_name": "Python 3"
    },
    "language_info": {
      "name": "python"
    }
  },
  "cells": [
    {
      "cell_type": "markdown",
      "source": [
        "1. Faça um programa que calcule o aumento de um salário. Ele deve solicitar o valor do salário e a porcentagem do aumento. Exiba o valor do aumento e do novo salário."
      ],
      "metadata": {
        "id": "Cq45W8THzUhb"
      }
    },
    {
      "cell_type": "code",
      "source": [
        "salario = float(input(\"Digite o salário: \"))\n",
        "aumento = float(input(\"Digite a porcentagem do aumento: \"))\n",
        "aumento = salario * (aumento / 100)\n",
        "print(\"O aumento é de R$\", aumento)\n",
        "print(\"O novo salário é de R$\", salario + aumento)"
      ],
      "metadata": {
        "id": "9sostAH0XfL5"
      },
      "execution_count": null,
      "outputs": []
    },
    {
      "cell_type": "markdown",
      "source": [
        "2. Faça um programa que solicite o preço de uma mercadoria e o percentual de desconto. Exiba o valor do desconto e o preço a pagar.\n",
        "\n"
      ],
      "metadata": {
        "id": "35X4tZ-3qdio"
      }
    },
    {
      "cell_type": "code",
      "source": [
        "preo = float(input(\"Digite o preço da mercadoria: \"))\n",
        "desconto = float(input(\"Digite o percentual de desconto: \"))\n",
        "desconto = preo * (desconto / 100)\n",
        "print(\"O desconto é de R$\", desconto)\n",
        "print(\"O preço a pagar é de R$\", preo - desconto)"
      ],
      "metadata": {
        "id": "AtMfBJV0XokL"
      },
      "execution_count": null,
      "outputs": []
    },
    {
      "cell_type": "markdown",
      "source": [
        "3. Escreva um programa que pergunte a quantidade de km percorridos por um carro alugado pelo usuário, assim como a quantidade de dias pelos quais o carro foi alugado. Calcule o preço a pagar, sabendo que o carro custa R\\$ 60,00 por dia e R\\$ 0,15 por km rodado.\n"
      ],
      "metadata": {
        "id": "9GgTQqvfq8pH"
      }
    },
    {
      "cell_type": "code",
      "source": [
        "km = float(input(\"Digite a quantidade de km percorridos: \"))\n",
        "dias = int(input(\"Digite a quantidade de dias: \"))\n",
        "print(\"O preço a pagar é de R$\", km * 0.15 + dias * 60)"
      ],
      "metadata": {
        "id": "YzlnTPo3X-yz"
      },
      "execution_count": null,
      "outputs": []
    },
    {
      "cell_type": "markdown",
      "source": [
        "4. Faça um programa que leia o nome de um vendedor, o seu salário fixo e o total de vendas efetuadas por ele no mês (em dinheiro). Sabendo que este vendedor ganha 15% de comissão sobre suas vendas efetuadas, informar o total a receber no final do mês, com duas casas decimais.\n",
        "\n"
      ],
      "metadata": {
        "id": "c_raGIlUrO63"
      }
    },
    {
      "cell_type": "code",
      "source": [
        "vendedor = input(\"Digite o nome do vendedor: \")\n",
        "salario = float(input(\"Digite o salário fixo: \"))\n",
        "vendas = float(input(\"Digite o total de vendas: \"))\n",
        "print(\"O total a receber é de R$\", round(salario + vendas * 0.15, 2))"
      ],
      "metadata": {
        "id": "JoGGSQkEZG_t"
      },
      "execution_count": null,
      "outputs": []
    }
  ]
}