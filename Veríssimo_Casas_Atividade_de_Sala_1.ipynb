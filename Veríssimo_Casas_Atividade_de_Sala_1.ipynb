{
  "nbformat": 4,
  "nbformat_minor": 0,
  "metadata": {
    "colab": {
      "provenance": []
    },
    "kernelspec": {
      "name": "python3",
      "display_name": "Python 3"
    },
    "language_info": {
      "name": "python"
    }
  },
  "cells": [
    {
      "cell_type": "markdown",
      "source": [
        "1. De acordo com os valores movidos para as variáveis nos comandos abaixo, indique a linha que contém a atribuição de um valor do tipo **real**, um **inteiro** e uma **string**\n",
        "\n",
        "\n",
        "1.   x='1'; y=2.0; z=teste;\n",
        "2.   x='1.0'; y='2'; z=teste;\n",
        "**3.   x=1.0; y=2; z='teste';**\n",
        "4.   x=1; y='2.0'; z='teste';"
      ],
      "metadata": {
        "id": "Cq45W8THzUhb"
      }
    },
    {
      "cell_type": "markdown",
      "source": [
        "Resposta:\n",
        "\n",
        "> Adicionar 3\n",
        "\n"
      ],
      "metadata": {
        "id": "MDDDyg3sqcyi"
      }
    },
    {
      "cell_type": "markdown",
      "source": [
        "2. Qual das opções abaixo possui um nome de variável **inválido**:\n",
        "\n",
        "1.   **_variavel2**\n",
        "2.   variavel2\n",
        "3.   variavel-2\n",
        "4.   variavel_2\n",
        "\n"
      ],
      "metadata": {
        "id": "35X4tZ-3qdio"
      }
    },
    {
      "cell_type": "markdown",
      "source": [
        "Resposta: 3"
      ],
      "metadata": {
        "id": "vDE9If2Qq7XJ"
      }
    },
    {
      "cell_type": "markdown",
      "source": [
        "3. Como criar uma variável com o valor real(float) 3.5?\n",
        "\n",
        "1.   x = 3.5\n",
        "2.   x = float(3.5)\n",
        "3.   ambas respostas acima estão corretas\n",
        "4.   nenhuma das anteriores está correta\n",
        "\n"
      ],
      "metadata": {
        "id": "9GgTQqvfq8pH"
      }
    },
    {
      "cell_type": "markdown",
      "source": [
        "Resposta: ambas respostas acima estão corretas"
      ],
      "metadata": {
        "id": "MiJUbABIrNIp"
      }
    },
    {
      "cell_type": "markdown",
      "source": [
        "4.\n",
        "\n",
        "```\n",
        "valorum   = 5 ** 2\n",
        "valordois = 5 ** 3\n",
        "print(valorum, valordois, valorum+valordois)\n",
        "```\n",
        "\n",
        "Dado o trecho de código acima, o que será impresso no comando print:\n",
        "\n",
        "1.   10 15 25\n",
        "2.   52 53 105\n",
        "3.   25 125 150\n",
        "4.   nenhuma das anteriores está correta\n",
        "\n"
      ],
      "metadata": {
        "id": "c_raGIlUrO63"
      }
    },
    {
      "cell_type": "markdown",
      "source": [
        "Resposta: 3"
      ],
      "metadata": {
        "id": "NU9hANCJrirE"
      }
    },
    {
      "cell_type": "markdown",
      "source": [
        "5. Faça um programa para calcular a quantidade de latas de tintas para pintar uma parede. O programa deverá solicitar ao usuário, a altura (float) e o comprimento(float) da parede. Considere que a cobertura da tinta é de 1 litro para cada 3 metros quadrados e que a tinta é vendida em latas de 3,6 litros, que custam R$ 107,00. Informe ao usuário a quantidades de latas de tinta a serem compradas e o preço total."
      ],
      "metadata": {
        "id": "D6-8uMWKrkJp"
      }
    },
    {
      "cell_type": "code",
      "execution_count": null,
      "metadata": {
        "id": "xy-RvbLAzPzA"
      },
      "outputs": [],
      "source": [
        "Altura = float(input('Digite a altura da parede: '))\n",
        "Comprimento = float(input('Digite o comprimento da parede: '))\n",
        "metro_quadrado = Altura * Comprimento\n",
        "litro = metro_quadrado / 3\n",
        "lata = litro / 3.6\n",
        "preco = lata * 107\n",
        "\n",
        "print(f\"Quantidade de latas: {lata}\")"
      ]
    },
    {
      "cell_type": "markdown",
      "source": [
        "Um determinado prêmio de loteria saiu para um bolão de três amigos. Uma lei garante que todo prêmio de loteria deva pagar um imposto de 7% para os cofres estaduais. Do total descontado o imposto, os amigos irão dividir o prêmio da seguinte maneira:\n",
        "\n",
        "\n",
        "\n",
        "*   O primeiro ganhador recebera 46%;\n",
        "*   O segundo recebera 32%;\n",
        "*   O terceiro recebera o restante; Faça um programa que leia o valor total do prêmio, calcule o desconto, o valor que cada um tem direito e imprima o total do prêmio, o premio descontado o imposto e a quantia recebida por cada um dos ganhadores."
      ],
      "metadata": {
        "id": "vEJngOOCzZWz"
      }
    },
    {
      "cell_type": "code",
      "source": [
        "valor_premio = float(input('Digite o valor do prêmio: '))\n",
        "valor_com_imposto = valor_premio - (valor_premio * 0.07)\n",
        "primeiro_ganhador = valor_com_imposto * 0.46\n",
        "segundo_ganhador = valor_com_imposto * 0.32\n",
        "terceiro_ganhador = valor_com_imposto - (primeiro_ganhador + segundo_ganhador)\n",
        "print(f\"Valor do prêmio: {valor_premio}, Valor com imposto: {valor_com_imposto}, Primeiro ganhador: {primeiro_ganhador}\")"
      ],
      "metadata": {
        "id": "ExhfR2OVsBZo"
      },
      "execution_count": null,
      "outputs": []
    },
    {
      "cell_type": "markdown",
      "source": [
        "6. A padaria Sópão vende diariamente uma certa quantidade de pães franceses e uma quantidade de broas. Cada pãozinho custa R\\$ 0,80 e a broa custa R\\$ 2,50. Do total arrecadado, 43% corresponde aos custos de fabricação. Do restante, Seu joão guarda 15% numa conta de poupança e 15% ele converte em Euros para sua viagem Anual. Sabe-se que 1 Euro custa R\\$ 4,60. Com base nestes fatos, faça um progrma para ler as quantidades de pães e de broas, calcular a venda total de pãos e broas, o custo de fabricação, quanto irá guardar na poupança e quantos euros irá comprar. Ao final exibir os dados calculados."
      ],
      "metadata": {
        "id": "savmebmnsB38"
      }
    },
    {
      "cell_type": "code",
      "source": [
        "preco_pao = 0.80\n",
        "preco_broa = 2.50\n",
        "poupanca_joao = 0.15\n",
        "euro_joao = 0.15\n",
        "custodefabrica = 0.43\n",
        "\n",
        "quant_paes = int(input('Digite a quantidade de pães: '))\n",
        "quant_broas = int(input('Digite a quantidade de broas: '))\n",
        "\n",
        "valor_total_paes = preco_pao * quant_paes\n",
        "valor_total_broas = preco_broa * quant_broas\n",
        "\n",
        "total_venda = valor_total_paes + valor_total_broas\n",
        "custo_fabrica = total_venda * custodefabrica\n",
        "\n",
        "poupanca_joao = total_venda * poupanca_joao\n",
        "euro_joao = total_venda * euro_joao\n",
        "\n",
        "print(f\"Valor total de pães: {valor_total_paes}, Valor total de broas: {valor_total_broas}, Custo de fabricação: {custo_fabrica}\")\n",
        "\n",
        "\n"
      ],
      "metadata": {
        "id": "m9O9pxaRsSsZ",
        "colab": {
          "base_uri": "https://localhost:8080/"
        },
        "outputId": "7e2bee44-2b8a-43de-807f-3ae1c3add2d6"
      },
      "execution_count": null,
      "outputs": [
        {
          "output_type": "stream",
          "name": "stdout",
          "text": [
            "Digite a quantidade de pães: 50\n",
            "Digite a quantidade de broas: 20\n",
            "Valor total de pães: 40.0, Valor total de broas: 50.0, Custo de fabricação: 38.7\n"
          ]
        }
      ]
    }
  ]
}